{
  "nbformat": 4,
  "nbformat_minor": 0,
  "metadata": {
    "colab": {
      "name": "CIFAR-10 CNN-Keras TensorFlow.ipynb",
      "provenance": [],
      "collapsed_sections": [],
      "toc_visible": true,
      "machine_shape": "hm",
      "include_colab_link": true
    },
    "kernelspec": {
      "name": "python3",
      "display_name": "Python 3"
    },
    "accelerator": "GPU"
  },
  "cells": [
    {
      "cell_type": "markdown",
      "metadata": {
        "id": "view-in-github",
        "colab_type": "text"
      },
      "source": [
        "<a href=\"https://colab.research.google.com/github/engr-zeeshan/tensorflow/blob/master/cifar-10/CIFAR_10_CNN_Keras_TensorFlow.ipynb\" target=\"_parent\"><img src=\"https://colab.research.google.com/assets/colab-badge.svg\" alt=\"Open In Colab\"/></a>"
      ]
    },
    {
      "cell_type": "markdown",
      "metadata": {
        "id": "klEh0HpkXFR7",
        "colab_type": "text"
      },
      "source": [
        "**1. Mount Google Drive**"
      ]
    },
    {
      "cell_type": "code",
      "metadata": {
        "id": "6dwZmCX9WfH4",
        "colab_type": "code",
        "colab": {}
      },
      "source": [
        "from google.colab import drive\n",
        "drive.mount('/content/gdrive')"
      ],
      "execution_count": 0,
      "outputs": []
    },
    {
      "cell_type": "markdown",
      "metadata": {
        "id": "j4p0DAdXXNxq",
        "colab_type": "text"
      },
      "source": [
        "**2. Path to Data** "
      ]
    },
    {
      "cell_type": "code",
      "metadata": {
        "id": "M61_Zvz6GxDd",
        "colab_type": "code",
        "colab": {}
      },
      "source": [
        "PATH_OF_DATA= '/content/gdrive/My Drive/datasets/cifar-10/'"
      ],
      "execution_count": 0,
      "outputs": []
    },
    {
      "cell_type": "markdown",
      "metadata": {
        "id": "s7QSIHCfZoFm",
        "colab_type": "text"
      },
      "source": [
        "**3. Unzip**"
      ]
    },
    {
      "cell_type": "code",
      "metadata": {
        "id": "pkrEHCUoZr50",
        "colab_type": "code",
        "colab": {}
      },
      "source": [
        "import os\n",
        "import zipfile\n",
        "\n",
        "train_zip = PATH_OF_DATA+'train.zip'\n",
        "zip_ref = zipfile.ZipFile(train_zip, 'r')\n",
        "zip_ref.extractall(\"/tmp/\")\n",
        "zip_ref.close()\n",
        "\n",
        "train_zip = PATH_OF_DATA+'/test.zip'\n",
        "zip_ref = zipfile.ZipFile(train_zip, 'r')\n",
        "zip_ref.extractall(\"/tmp/\")\n",
        "zip_ref.close()"
      ],
      "execution_count": 0,
      "outputs": []
    },
    {
      "cell_type": "markdown",
      "metadata": {
        "id": "jIm5ueigeunq",
        "colab_type": "text"
      },
      "source": [
        "**4. Confirmation of extrated folders**"
      ]
    },
    {
      "cell_type": "code",
      "metadata": {
        "id": "DNzxYe5PeYy8",
        "colab_type": "code",
        "colab": {}
      },
      "source": [
        "train_dir = os.path.join('/tmp/train/train/')\n",
        "test_dir = os.path.join('/tmp/test/test/')\n",
        "\n",
        "train_files = os.listdir(train_dir)\n",
        "train_files_names = [i.split('.', 1)[0] for i in train_files]\n",
        "train_files_names.sort(key=int)\n",
        "\n",
        "test_files = os.listdir(test_dir)\n",
        "test_files_names = [i.split('.', 1)[0] for i in test_files]\n",
        "test_files_names.sort(key=int)"
      ],
      "execution_count": 0,
      "outputs": []
    },
    {
      "cell_type": "markdown",
      "metadata": {
        "id": "xU_RcR_GhLgN",
        "colab_type": "text"
      },
      "source": [
        "**5. Read Images**"
      ]
    },
    {
      "cell_type": "code",
      "metadata": {
        "id": "jjeGqWhihDqA",
        "colab_type": "code",
        "colab": {}
      },
      "source": [
        "import matplotlib.image as mpimg\n",
        "\n",
        "train_data  = []\n",
        "for i in train_files_names:\n",
        "  train_data.append(mpimg.imread(train_dir+str(i)+'.png'))\n",
        "\n",
        "test_data  = []\n",
        "for i in test_files_names:\n",
        "  test_data.append(mpimg.imread(test_dir+str(i)+'.png'))"
      ],
      "execution_count": 0,
      "outputs": []
    },
    {
      "cell_type": "markdown",
      "metadata": {
        "id": "Tp8UEe8DALUO",
        "colab_type": "text"
      },
      "source": [
        "**6. Read CSV for labels**"
      ]
    },
    {
      "cell_type": "code",
      "metadata": {
        "id": "ZdZaL9qVAOG4",
        "colab_type": "code",
        "colab": {}
      },
      "source": [
        "import pandas as pd\n",
        "import numpy as np\n",
        "import csv\n",
        "\n",
        "df = pd.read_csv(PATH_OF_DATA+'trainLabels.csv')\n",
        "train_labels_unique = df['label'].unique()\n",
        "i = 0\n",
        "for x in train_labels_unique:\n",
        "  df = df.replace(to_replace=x, value = i)\n",
        "  i +=1\n",
        "y = df[['label']].values"
      ],
      "execution_count": 0,
      "outputs": []
    },
    {
      "cell_type": "markdown",
      "metadata": {
        "id": "HzMwBnqUiC0v",
        "colab_type": "text"
      },
      "source": [
        "**7. Model**"
      ]
    },
    {
      "cell_type": "code",
      "metadata": {
        "id": "0tDIQ5QxhPN9",
        "colab_type": "code",
        "outputId": "df198c88-5daf-4663-eca8-5ee1ef41de92",
        "colab": {
          "base_uri": "https://localhost:8080/",
          "height": 439
        }
      },
      "source": [
        "import tensorflow as tf\n",
        "model = tf.keras.models.Sequential([\n",
        "                                    # This is the first convolution\n",
        "                                    tf.keras.layers.Conv2D(64, (3,3), activation='relu', input_shape=(32, 32, 3)),\n",
        "                                    tf.keras.layers.MaxPooling2D(2, 2),\n",
        "                                    # The second convolution\n",
        "                                    tf.keras.layers.Conv2D(64, (3,3), activation='relu'),\n",
        "                                    tf.keras.layers.MaxPooling2D(2,2),\n",
        "                                    tf.keras.layers.Flatten(), \n",
        "                                    tf.keras.layers.Dense(512, activation=tf.nn.relu),\n",
        "                                    tf.keras.layers.Dropout(0.2),\n",
        "                                    tf.keras.layers.Dense(10, activation=tf.nn.softmax)])\n",
        "model.summary()\n"
      ],
      "execution_count": 0,
      "outputs": [
        {
          "output_type": "stream",
          "text": [
            "Model: \"sequential_2\"\n",
            "_________________________________________________________________\n",
            "Layer (type)                 Output Shape              Param #   \n",
            "=================================================================\n",
            "conv2d_4 (Conv2D)            (None, 30, 30, 64)        1792      \n",
            "_________________________________________________________________\n",
            "max_pooling2d_4 (MaxPooling2 (None, 15, 15, 64)        0         \n",
            "_________________________________________________________________\n",
            "conv2d_5 (Conv2D)            (None, 13, 13, 64)        36928     \n",
            "_________________________________________________________________\n",
            "max_pooling2d_5 (MaxPooling2 (None, 6, 6, 64)          0         \n",
            "_________________________________________________________________\n",
            "flatten_2 (Flatten)          (None, 2304)              0         \n",
            "_________________________________________________________________\n",
            "dense_4 (Dense)              (None, 512)               1180160   \n",
            "_________________________________________________________________\n",
            "dropout_4 (Dropout)          (None, 512)               0         \n",
            "_________________________________________________________________\n",
            "dense_5 (Dense)              (None, 10)                5130      \n",
            "=================================================================\n",
            "Total params: 1,224,010\n",
            "Trainable params: 1,224,010\n",
            "Non-trainable params: 0\n",
            "_________________________________________________________________\n"
          ],
          "name": "stdout"
        }
      ]
    },
    {
      "cell_type": "markdown",
      "metadata": {
        "id": "Amj-tRf8irGj",
        "colab_type": "text"
      },
      "source": [
        "**8. Compile**"
      ]
    },
    {
      "cell_type": "code",
      "metadata": {
        "id": "0sMGGknAiqAu",
        "colab_type": "code",
        "colab": {}
      },
      "source": [
        "model.compile(optimizer='adam', loss='sparse_categorical_crossentropy', metrics=['accuracy'])"
      ],
      "execution_count": 0,
      "outputs": []
    },
    {
      "cell_type": "markdown",
      "metadata": {
        "id": "bekFOFzZqmV5",
        "colab_type": "text"
      },
      "source": [
        "**9. Train**"
      ]
    },
    {
      "cell_type": "code",
      "metadata": {
        "id": "5QfgxDbxqocL",
        "colab_type": "code",
        "outputId": "55a369eb-494b-425c-dd85-fce136a5350b",
        "colab": {
          "base_uri": "https://localhost:8080/",
          "height": 774
        }
      },
      "source": [
        "x = np.array(train_data)\n",
        "print(x.shape)\n",
        "# x = x.reshape(x.shape[0], x.shape[1]*x.shape[2]*x.shape[3])\n",
        "\n",
        "model.fit(x, y, epochs=20)"
      ],
      "execution_count": 0,
      "outputs": [
        {
          "output_type": "stream",
          "text": [
            "(50000, 32, 32, 3)\n",
            "Train on 50000 samples\n",
            "Epoch 1/20\n",
            "50000/50000 [==============================] - 10s 195us/sample - loss: 1.4015 - acc: 0.4946\n",
            "Epoch 2/20\n",
            "50000/50000 [==============================] - 9s 184us/sample - loss: 1.0292 - acc: 0.6361\n",
            "Epoch 3/20\n",
            "50000/50000 [==============================] - 9s 182us/sample - loss: 0.8623 - acc: 0.6993\n",
            "Epoch 4/20\n",
            "50000/50000 [==============================] - 9s 183us/sample - loss: 0.7343 - acc: 0.7451\n",
            "Epoch 5/20\n",
            "50000/50000 [==============================] - 9s 184us/sample - loss: 0.6285 - acc: 0.7792\n",
            "Epoch 6/20\n",
            "50000/50000 [==============================] - 9s 182us/sample - loss: 0.5374 - acc: 0.8128\n",
            "Epoch 7/20\n",
            "50000/50000 [==============================] - 9s 183us/sample - loss: 0.4535 - acc: 0.8399\n",
            "Epoch 8/20\n",
            "50000/50000 [==============================] - 9s 185us/sample - loss: 0.3782 - acc: 0.8661\n",
            "Epoch 9/20\n",
            "50000/50000 [==============================] - 9s 184us/sample - loss: 0.3138 - acc: 0.8881\n",
            "Epoch 10/20\n",
            "50000/50000 [==============================] - 9s 183us/sample - loss: 0.2659 - acc: 0.9068\n",
            "Epoch 11/20\n",
            "50000/50000 [==============================] - 9s 183us/sample - loss: 0.2296 - acc: 0.9186\n",
            "Epoch 12/20\n",
            "50000/50000 [==============================] - 9s 184us/sample - loss: 0.2012 - acc: 0.9296\n",
            "Epoch 13/20\n",
            "50000/50000 [==============================] - 9s 183us/sample - loss: 0.1816 - acc: 0.9365\n",
            "Epoch 14/20\n",
            "50000/50000 [==============================] - 9s 185us/sample - loss: 0.1616 - acc: 0.9437\n",
            "Epoch 15/20\n",
            "50000/50000 [==============================] - 9s 185us/sample - loss: 0.1558 - acc: 0.9448\n",
            "Epoch 16/20\n",
            "50000/50000 [==============================] - 9s 185us/sample - loss: 0.1377 - acc: 0.9520\n",
            "Epoch 17/20\n",
            "50000/50000 [==============================] - 9s 186us/sample - loss: 0.1430 - acc: 0.9509\n",
            "Epoch 18/20\n",
            "50000/50000 [==============================] - 9s 186us/sample - loss: 0.1334 - acc: 0.9553\n",
            "Epoch 19/20\n",
            "50000/50000 [==============================] - 10s 192us/sample - loss: 0.1202 - acc: 0.9584\n",
            "Epoch 20/20\n",
            "50000/50000 [==============================] - 9s 187us/sample - loss: 0.1140 - acc: 0.9606\n"
          ],
          "name": "stdout"
        },
        {
          "output_type": "execute_result",
          "data": {
            "text/plain": [
              "<tensorflow.python.keras.callbacks.History at 0x7f7a372e0b70>"
            ]
          },
          "metadata": {
            "tags": []
          },
          "execution_count": 16
        }
      ]
    },
    {
      "cell_type": "markdown",
      "metadata": {
        "id": "A6s7ZQ96L7XQ",
        "colab_type": "text"
      },
      "source": [
        "**10. Test**"
      ]
    },
    {
      "cell_type": "code",
      "metadata": {
        "id": "JEsIjRDbL-gN",
        "colab_type": "code",
        "outputId": "86040b4d-4bc6-4ad2-e391-96c7de3790af",
        "colab": {
          "base_uri": "https://localhost:8080/",
          "height": 34
        }
      },
      "source": [
        "testing_data = np.array(test_data)\n",
        "classifications = model.predict(testing_data)\n",
        "print(train_labels_unique[np.argmax(classifications[26])])"
      ],
      "execution_count": 0,
      "outputs": [
        {
          "output_type": "stream",
          "text": [
            "automobile\n"
          ],
          "name": "stdout"
        }
      ]
    }
  ]
}