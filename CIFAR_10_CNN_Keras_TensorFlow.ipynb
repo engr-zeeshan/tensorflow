{
  "nbformat": 4,
  "nbformat_minor": 0,
  "metadata": {
    "colab": {
      "name": "CIFAR-10 CNN-Keras TensorFlow.ipynb",
      "provenance": [],
      "collapsed_sections": [],
      "toc_visible": true,
      "machine_shape": "hm",
      "include_colab_link": true
    },
    "kernelspec": {
      "name": "python3",
      "display_name": "Python 3"
    },
    "accelerator": "GPU"
  },
  "cells": [
    {
      "cell_type": "markdown",
      "metadata": {
        "id": "view-in-github",
        "colab_type": "text"
      },
      "source": [
        "<a href=\"https://colab.research.google.com/github/engr-zeeshan/tensorflow/blob/master/CIFAR_10_CNN_Keras_TensorFlow.ipynb\" target=\"_parent\"><img src=\"https://colab.research.google.com/assets/colab-badge.svg\" alt=\"Open In Colab\"/></a>"
      ]
    },
    {
      "cell_type": "markdown",
      "metadata": {
        "id": "klEh0HpkXFR7",
        "colab_type": "text"
      },
      "source": [
        "**1. Mount Google Drive**"
      ]
    },
    {
      "cell_type": "code",
      "metadata": {
        "id": "6dwZmCX9WfH4",
        "colab_type": "code",
        "colab": {}
      },
      "source": [
        "from google.colab import drive\n",
        "drive.mount('/content/gdrive')"
      ],
      "execution_count": 0,
      "outputs": []
    },
    {
      "cell_type": "markdown",
      "metadata": {
        "id": "j4p0DAdXXNxq",
        "colab_type": "text"
      },
      "source": [
        "**2. Path to Data** "
      ]
    },
    {
      "cell_type": "code",
      "metadata": {
        "id": "M61_Zvz6GxDd",
        "colab_type": "code",
        "colab": {}
      },
      "source": [
        "PATH_OF_DATA= '/content/gdrive/My Drive/datasets/cifar-10/'"
      ],
      "execution_count": 0,
      "outputs": []
    },
    {
      "cell_type": "markdown",
      "metadata": {
        "id": "s7QSIHCfZoFm",
        "colab_type": "text"
      },
      "source": [
        "**3. Unzip**"
      ]
    },
    {
      "cell_type": "code",
      "metadata": {
        "id": "pkrEHCUoZr50",
        "colab_type": "code",
        "colab": {}
      },
      "source": [
        "import os\n",
        "import zipfile\n",
        "\n",
        "train_zip = PATH_OF_DATA+'train.zip'\n",
        "zip_ref = zipfile.ZipFile(train_zip, 'r')\n",
        "zip_ref.extractall(\"/tmp/\")\n",
        "zip_ref.close()\n",
        "\n",
        "train_zip = PATH_OF_DATA+'/test.zip'\n",
        "zip_ref = zipfile.ZipFile(train_zip, 'r')\n",
        "zip_ref.extractall(\"/tmp/\")\n",
        "zip_ref.close()"
      ],
      "execution_count": 0,
      "outputs": []
    },
    {
      "cell_type": "markdown",
      "metadata": {
        "id": "jIm5ueigeunq",
        "colab_type": "text"
      },
      "source": [
        "**4. Confirmation of extrated folders**"
      ]
    },
    {
      "cell_type": "code",
      "metadata": {
        "id": "DNzxYe5PeYy8",
        "colab_type": "code",
        "colab": {}
      },
      "source": [
        "train_dir = os.path.join('/tmp/train/train/')\n",
        "test_dir = os.path.join('/tmp/test/test/')\n",
        "\n",
        "train_files = os.listdir(train_dir)\n",
        "train_files_names = [i.split('.', 1)[0] for i in train_files]\n",
        "train_files_names.sort(key=int)\n",
        "\n",
        "test_files = os.listdir(test_dir)\n",
        "test_files_names = [i.split('.', 1)[0] for i in test_files]\n",
        "test_files_names.sort(key=int)"
      ],
      "execution_count": 0,
      "outputs": []
    },
    {
      "cell_type": "markdown",
      "metadata": {
        "id": "xU_RcR_GhLgN",
        "colab_type": "text"
      },
      "source": [
        "**5. Read Images**"
      ]
    },
    {
      "cell_type": "code",
      "metadata": {
        "id": "jjeGqWhihDqA",
        "colab_type": "code",
        "colab": {}
      },
      "source": [
        "import matplotlib.image as mpimg\n",
        "\n",
        "train_data  = []\n",
        "for i in train_files_names:\n",
        "  train_data.append(mpimg.imread(train_dir+str(i)+'.png'))\n",
        "\n",
        "test_data  = []\n",
        "for i in test_files_names:\n",
        "  test_data.append(mpimg.imread(test_dir+str(i)+'.png'))"
      ],
      "execution_count": 0,
      "outputs": []
    },
    {
      "cell_type": "markdown",
      "metadata": {
        "id": "Tp8UEe8DALUO",
        "colab_type": "text"
      },
      "source": [
        "**6. Read CSV for labels**"
      ]
    },
    {
      "cell_type": "code",
      "metadata": {
        "id": "ZdZaL9qVAOG4",
        "colab_type": "code",
        "colab": {}
      },
      "source": [
        "import pandas as pd\n",
        "import numpy as np\n",
        "import csv\n",
        "\n",
        "df = pd.read_csv(PATH_OF_DATA+'trainLabels.csv')\n",
        "train_labels_unique = df['label'].unique()\n",
        "i = 0\n",
        "for x in train_labels_unique:\n",
        "  df = df.replace(to_replace=x, value = i)\n",
        "  i +=1\n",
        "y = df[['label']].values"
      ],
      "execution_count": 0,
      "outputs": []
    },
    {
      "cell_type": "markdown",
      "metadata": {
        "id": "HzMwBnqUiC0v",
        "colab_type": "text"
      },
      "source": [
        "**7. Model**"
      ]
    },
    {
      "cell_type": "code",
      "metadata": {
        "id": "0tDIQ5QxhPN9",
        "colab_type": "code",
        "outputId": "5f80d68a-2b6f-4940-fce5-5f4693c26c08",
        "colab": {
          "base_uri": "https://localhost:8080/",
          "height": 439
        }
      },
      "source": [
        "import tensorflow as tf\n",
        "model = tf.keras.models.Sequential([\n",
        "                                    # Note the input shape is the desired size of the image 300x300 with 3 bytes color\n",
        "                                    # This is the first convolution\n",
        "                                    tf.keras.layers.Conv2D(32, (3,3), activation='relu', input_shape=(32, 32, 3)),\n",
        "                                    tf.keras.layers.MaxPooling2D(2, 2),\n",
        "                                    # The second convolution\n",
        "                                    tf.keras.layers.Conv2D(64, (3,3), activation='relu'),\n",
        "                                    tf.keras.layers.MaxPooling2D(2,2),\n",
        "                                    tf.keras.layers.Flatten(), \n",
        "                                    tf.keras.layers.Dense(512, activation=tf.nn.relu),\n",
        "                                    tf.keras.layers.Dropout(0.2),\n",
        "                                    tf.keras.layers.Dense(10, activation=tf.nn.softmax)])\n",
        "model.summary()\n"
      ],
      "execution_count": 37,
      "outputs": [
        {
          "output_type": "stream",
          "text": [
            "Model: \"sequential_5\"\n",
            "_________________________________________________________________\n",
            "Layer (type)                 Output Shape              Param #   \n",
            "=================================================================\n",
            "conv2d_12 (Conv2D)           (None, 30, 30, 32)        896       \n",
            "_________________________________________________________________\n",
            "max_pooling2d_12 (MaxPooling (None, 15, 15, 32)        0         \n",
            "_________________________________________________________________\n",
            "conv2d_13 (Conv2D)           (None, 13, 13, 64)        18496     \n",
            "_________________________________________________________________\n",
            "max_pooling2d_13 (MaxPooling (None, 6, 6, 64)          0         \n",
            "_________________________________________________________________\n",
            "flatten_5 (Flatten)          (None, 2304)              0         \n",
            "_________________________________________________________________\n",
            "dense_10 (Dense)             (None, 512)               1180160   \n",
            "_________________________________________________________________\n",
            "dropout_2 (Dropout)          (None, 512)               0         \n",
            "_________________________________________________________________\n",
            "dense_11 (Dense)             (None, 10)                5130      \n",
            "=================================================================\n",
            "Total params: 1,204,682\n",
            "Trainable params: 1,204,682\n",
            "Non-trainable params: 0\n",
            "_________________________________________________________________\n"
          ],
          "name": "stdout"
        }
      ]
    },
    {
      "cell_type": "markdown",
      "metadata": {
        "id": "Amj-tRf8irGj",
        "colab_type": "text"
      },
      "source": [
        "**8. Compile**"
      ]
    },
    {
      "cell_type": "code",
      "metadata": {
        "id": "0sMGGknAiqAu",
        "colab_type": "code",
        "colab": {}
      },
      "source": [
        "model.compile(optimizer='adam', loss='sparse_categorical_crossentropy', metrics=['accuracy'])"
      ],
      "execution_count": 0,
      "outputs": []
    },
    {
      "cell_type": "markdown",
      "metadata": {
        "id": "bekFOFzZqmV5",
        "colab_type": "text"
      },
      "source": [
        "**9. Train**"
      ]
    },
    {
      "cell_type": "code",
      "metadata": {
        "id": "5QfgxDbxqocL",
        "colab_type": "code",
        "outputId": "7fc82a77-195b-42ed-b62c-85c4d35e60fe",
        "colab": {
          "base_uri": "https://localhost:8080/",
          "height": 774
        }
      },
      "source": [
        "x = np.array(train_data)\n",
        "print(x.shape)\n",
        "# x = x.reshape(x.shape[0], x.shape[1]*x.shape[2]*x.shape[3])\n",
        "\n",
        "model.fit(x, y, epochs=20)"
      ],
      "execution_count": 40,
      "outputs": [
        {
          "output_type": "stream",
          "text": [
            "(50000, 32, 32, 3)\n",
            "Train on 50000 samples\n",
            "Epoch 1/20\n",
            "50000/50000 [==============================] - 6s 116us/sample - loss: 1.4268 - acc: 0.4872\n",
            "Epoch 2/20\n",
            "50000/50000 [==============================] - 6s 113us/sample - loss: 1.0674 - acc: 0.6239\n",
            "Epoch 3/20\n",
            "50000/50000 [==============================] - 6s 114us/sample - loss: 0.9029 - acc: 0.6838\n",
            "Epoch 4/20\n",
            "50000/50000 [==============================] - 6s 114us/sample - loss: 0.7787 - acc: 0.7267\n",
            "Epoch 5/20\n",
            "50000/50000 [==============================] - 6s 113us/sample - loss: 0.6760 - acc: 0.7633\n",
            "Epoch 6/20\n",
            "50000/50000 [==============================] - 6s 114us/sample - loss: 0.5721 - acc: 0.8003\n",
            "Epoch 7/20\n",
            "50000/50000 [==============================] - 6s 113us/sample - loss: 0.4863 - acc: 0.8298\n",
            "Epoch 8/20\n",
            "50000/50000 [==============================] - 6s 114us/sample - loss: 0.4133 - acc: 0.8522\n",
            "Epoch 9/20\n",
            "50000/50000 [==============================] - 6s 114us/sample - loss: 0.3404 - acc: 0.8798\n",
            "Epoch 10/20\n",
            "50000/50000 [==============================] - 6s 113us/sample - loss: 0.2942 - acc: 0.8960\n",
            "Epoch 11/20\n",
            "50000/50000 [==============================] - 6s 113us/sample - loss: 0.2462 - acc: 0.9140\n",
            "Epoch 12/20\n",
            "50000/50000 [==============================] - 6s 113us/sample - loss: 0.2105 - acc: 0.9262\n",
            "Epoch 13/20\n",
            "50000/50000 [==============================] - 6s 113us/sample - loss: 0.1935 - acc: 0.9317\n",
            "Epoch 14/20\n",
            "50000/50000 [==============================] - 6s 113us/sample - loss: 0.1713 - acc: 0.9397\n",
            "Epoch 15/20\n",
            "50000/50000 [==============================] - 6s 113us/sample - loss: 0.1564 - acc: 0.9462\n",
            "Epoch 16/20\n",
            "50000/50000 [==============================] - 6s 113us/sample - loss: 0.1496 - acc: 0.9475\n",
            "Epoch 17/20\n",
            "50000/50000 [==============================] - 6s 113us/sample - loss: 0.1402 - acc: 0.9515\n",
            "Epoch 18/20\n",
            "50000/50000 [==============================] - 6s 113us/sample - loss: 0.1285 - acc: 0.9563\n",
            "Epoch 19/20\n",
            "50000/50000 [==============================] - 6s 113us/sample - loss: 0.1252 - acc: 0.9579\n",
            "Epoch 20/20\n",
            "50000/50000 [==============================] - 6s 113us/sample - loss: 0.1156 - acc: 0.9613\n"
          ],
          "name": "stdout"
        },
        {
          "output_type": "execute_result",
          "data": {
            "text/plain": [
              "<tensorflow.python.keras.callbacks.History at 0x7fecc2904cf8>"
            ]
          },
          "metadata": {
            "tags": []
          },
          "execution_count": 40
        }
      ]
    },
    {
      "cell_type": "markdown",
      "metadata": {
        "id": "A6s7ZQ96L7XQ",
        "colab_type": "text"
      },
      "source": [
        "**10. Test**"
      ]
    },
    {
      "cell_type": "code",
      "metadata": {
        "id": "JEsIjRDbL-gN",
        "colab_type": "code",
        "outputId": "a71c45fd-6e62-4f41-cb1f-983776661f9d",
        "colab": {
          "base_uri": "https://localhost:8080/",
          "height": 34
        }
      },
      "source": [
        "testing_data = np.array(test_data)\n",
        "classifications = model.predict(testing_data)\n",
        "print(train_labels_unique[np.argmax(classifications[26])])"
      ],
      "execution_count": 43,
      "outputs": [
        {
          "output_type": "stream",
          "text": [
            "automobile\n"
          ],
          "name": "stdout"
        }
      ]
    }
  ]
}